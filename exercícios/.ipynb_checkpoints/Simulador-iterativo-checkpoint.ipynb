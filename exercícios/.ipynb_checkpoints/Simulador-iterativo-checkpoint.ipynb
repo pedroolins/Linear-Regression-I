{
 "cells": [
  {
   "cell_type": "code",
   "execution_count": 5,
   "metadata": {},
   "outputs": [],
   "source": [
    "import pickle\n",
    "arquivo = open('modelo_exercicio', 'rb')\n",
    "modelo = pickle.load(arquivo)\n",
    "arquivo.close()"
   ]
  },
  {
   "cell_type": "code",
   "execution_count": 6,
   "metadata": {},
   "outputs": [
    {
     "name": "stdout",
     "output_type": "stream",
     "text": [
      "$ 46389.80\n"
     ]
    }
   ],
   "source": [
    "area = 38\n",
    "garagem = 2\n",
    "banheiros = 4\n",
    "lareira = 4\n",
    "marmore = 0\n",
    "andares = 1\n",
    "\n",
    "entrada = [[area, garagem, banheiros, lareira, marmore, andares]]\n",
    "\n",
    "print('$ {0:.2f}'.format(modelo.predict(entrada)[0]))"
   ]
  },
  {
   "cell_type": "code",
   "execution_count": 13,
   "metadata": {},
   "outputs": [],
   "source": [
    "# Importando bibliotecas\n",
    "from ipywidgets import widgets, HBox, VBox\n",
    "from IPython.display import display\n",
    "\n",
    "# Criando os controles do formulário\n",
    "area = widgets.Text(description=\"Area\")\n",
    "garagem = widgets.Text(description=\"Garagem\")\n",
    "banheiros = widgets.Text(description=\"Banheiros\")\n",
    "laleira = widgets.Text(description=\"Laleira\")\n",
    "marmore = widgets.Text(description=\"marmore\")\n",
    "andares = widgets.Text(description=\"andares\")\n",
    "botao = widgets.Button(description=\"simulador de preço\")\n",
    "\n",
    "# Posicionando os controles\n",
    "left = VBox([area, garagem, laleira])\n",
    "right = VBox([marmore, andares, banheiros])\n",
    "inputs = HBox([left, right])\n",
    "\n",
    "# crinado a função entrada \n",
    "def simulador(sender):\n",
    "    entrada = [[\n",
    "        float(area.value if area.value else 0),\n",
    "        float(garagem.value if garagem.value else 0),\n",
    "        float(banheiros.value if banheiros.value else 0),\n",
    "        float(laleira.value if laleira.value else 0),\n",
    "        float(marmore.value if marmore.value else 0),\n",
    "        float(andares.value if andares.value else 0),\n",
    "    ]]\n",
    "    print('o valor provével é de R$', modelo.predict(entrada).round(2)[0])\n",
    "botao.on_click(simulador)"
   ]
  },
  {
   "cell_type": "code",
   "execution_count": 14,
   "metadata": {},
   "outputs": [
    {
     "data": {
      "application/vnd.jupyter.widget-view+json": {
       "model_id": "f817950bcdef4933a25c88fd11f92c2a",
       "version_major": 2,
       "version_minor": 0
      },
      "text/plain": [
       "HBox(children=(VBox(children=(Text(value='', description='Area'), Text(value='', description='Garagem'), Text(…"
      ]
     },
     "metadata": {},
     "output_type": "display_data"
    },
    {
     "data": {
      "application/vnd.jupyter.widget-view+json": {
       "model_id": "e0c1542c21954c4186b0c637d1fe2f49",
       "version_major": 2,
       "version_minor": 0
      },
      "text/plain": [
       "Button(description='simulador de preço', style=ButtonStyle())"
      ]
     },
     "metadata": {},
     "output_type": "display_data"
    },
    {
     "name": "stdout",
     "output_type": "stream",
     "text": [
      "o valor provével é de R$ 49227.33\n"
     ]
    }
   ],
   "source": [
    "# Mostrando o formulário\n",
    "display(inputs, botao)"
   ]
  },
  {
   "cell_type": "code",
   "execution_count": null,
   "metadata": {},
   "outputs": [],
   "source": []
  }
 ],
 "metadata": {
  "kernelspec": {
   "display_name": "Python 3",
   "language": "python",
   "name": "python3"
  },
  "language_info": {
   "codemirror_mode": {
    "name": "ipython",
    "version": 3
   },
   "file_extension": ".py",
   "mimetype": "text/x-python",
   "name": "python",
   "nbconvert_exporter": "python",
   "pygments_lexer": "ipython3",
   "version": "3.8.5"
  }
 },
 "nbformat": 4,
 "nbformat_minor": 4
}
