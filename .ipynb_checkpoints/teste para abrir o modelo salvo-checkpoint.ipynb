{
 "cells": [
  {
   "cell_type": "code",
   "execution_count": 3,
   "metadata": {},
   "outputs": [],
   "source": [
    "# importando biblioteca pickle, abrindo o arquivo, carregando o objeto python(modelo) na variável modelo e fechando o arquivo aberto\n",
    "import pickle\n",
    "arquivo_modelo = open('modelo_consumo_cerveja', 'rb')\n",
    "modelo = pickle.load(arquivo_modelo)\n",
    "arquivo_modelo.close()"
   ]
  },
  {
   "cell_type": "code",
   "execution_count": 12,
   "metadata": {},
   "outputs": [
    {
     "name": "stdout",
     "output_type": "stream",
     "text": [
      "São estimados o consumo de 25047.79 litros de cerveja.\n"
     ]
    }
   ],
   "source": [
    "# utilizando o modelo\n",
    "temp_max = 20\n",
    "chuva = 0\n",
    "fds = 1\n",
    "entrada_do_modelo = [[temp_max, chuva, fds]]\n",
    "print(f'São estimados o consumo de {modelo.predict(entrada_do_modelo).round(2)[0]} litros de cerveja.')"
   ]
  },
  {
   "cell_type": "code",
   "execution_count": null,
   "metadata": {},
   "outputs": [],
   "source": []
  }
 ],
 "metadata": {
  "kernelspec": {
   "display_name": "Python 3",
   "language": "python",
   "name": "python3"
  },
  "language_info": {
   "codemirror_mode": {
    "name": "ipython",
    "version": 3
   },
   "file_extension": ".py",
   "mimetype": "text/x-python",
   "name": "python",
   "nbconvert_exporter": "python",
   "pygments_lexer": "ipython3",
   "version": "3.8.5"
  }
 },
 "nbformat": 4,
 "nbformat_minor": 4
}
